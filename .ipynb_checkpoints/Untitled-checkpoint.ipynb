{
 "cells": [
  {
   "cell_type": "code",
   "execution_count": null,
   "id": "2013a869-6513-49c3-976b-b5252ac3f3b0",
   "metadata": {},
   "outputs": [],
   "source": []
  }
 ],
 "metadata": {
  "kernelspec": {
   "display_name": "",
   "name": ""
  },
  "language_info": {
   "name": ""
  }
 },
 "nbformat": 4,
 "nbformat_minor": 5
}
